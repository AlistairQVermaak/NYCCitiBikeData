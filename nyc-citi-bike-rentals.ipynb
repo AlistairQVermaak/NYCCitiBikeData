{
 "cells": [
  {
   "cell_type": "code",
   "execution_count": null,
   "metadata": {},
   "outputs": [],
   "source": [
    "import pandas as pd\n",
    "file_path = \"/workspaces/nyc-citi-bike-rentals/data/JC-202306-citibike-tripdata.csv\"\n",
    "df = pd.read_csv(file_path)\n",
    "print(df.head(10))\n"
   ]
  }
 ],
 "metadata": {
  "language_info": {
   "name": "python"
  }
 },
 "nbformat": 4,
 "nbformat_minor": 2
}
